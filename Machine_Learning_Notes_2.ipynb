{
  "nbformat": 4,
  "nbformat_minor": 0,
  "metadata": {
    "colab": {
      "provenance": [],
      "toc_visible": true
    },
    "kernelspec": {
      "name": "python3",
      "display_name": "Python 3"
    },
    "language_info": {
      "name": "python"
    }
  },
  "cells": [
    {
      "cell_type": "markdown",
      "source": [
        "# **Machine Learning (Part -2)**"
      ],
      "metadata": {
        "id": "3FkdaZ3hB13v"
      }
    },
    {
      "cell_type": "markdown",
      "source": [
        "# Performance Evaluation in Machine Learning"
      ],
      "metadata": {
        "id": "kn9-smXoB-Kq"
      }
    },
    {
      "cell_type": "markdown",
      "source": [
        "## Performance Metrics"
      ],
      "metadata": {
        "id": "bfBkIPVfCD2x"
      }
    },
    {
      "cell_type": "markdown",
      "source": [
        "Performance metrics help you in assessing the machine learning\n",
        "algorithms.\n",
        "Machine learning models are evaluated against the performance\n",
        "measures you choose."
      ],
      "metadata": {
        "id": "X-JNiqzfCMDs"
      }
    },
    {
      "cell_type": "markdown",
      "source": [
        "## Key Methods of Performance Metrics"
      ],
      "metadata": {
        "id": "BPaORlkeCMLC"
      }
    },
    {
      "cell_type": "markdown",
      "source": [
        "\n",
        "\n",
        "* Confusion Matrices\n",
        "* Accuracy\n",
        "* Precision\n",
        "* Recall\n",
        "* Specificity\n",
        "* F1 Score\n",
        "\n",
        "\n",
        "\n"
      ],
      "metadata": {
        "id": "jz1oQh4kCMOd"
      }
    },
    {
      "cell_type": "markdown",
      "source": [
        "### Confusion Matrix"
      ],
      "metadata": {
        "id": "BOLgkDTHDGG6"
      }
    },
    {
      "cell_type": "markdown",
      "source": [
        "* The confusion matrix is one of the most intuitive and easiest metrics\n",
        "used for finding the correctness and accuracy of the model.\n",
        "* It is used for classification problem where the output can be of two or\n",
        "more types of classes.\n",
        "\n",
        "**Terms of Confusion Metrics:**\n",
        "1. True Positive:\n",
        "True Positives are the cases where the actual class of the data point is\n",
        "1(true) and the predicted is also 1(true).\n",
        "2. True Negative:\n",
        "True Negatives are the cases when the actual class of the data point is\n",
        "0(false) and the predicted is also 0(false).\n",
        "3. False Positive:\n",
        "False Positives are the cases when the actual class of the data point is\n",
        "0(false) and the predicted is 1(true).\n",
        "4. False Negative:\n",
        "False Negatives are the cases when the actual class of the data point is\n",
        "1(true) and the predicted is 0(false)."
      ],
      "metadata": {
        "id": "lzqOcJv9DPJA"
      }
    },
    {
      "cell_type": "markdown",
      "source": [
        "### Accuracy"
      ],
      "metadata": {
        "id": "9qK46yjKDQGc"
      }
    },
    {
      "cell_type": "markdown",
      "source": [
        "* In classification problems, accuracy is defined by the total number of\n",
        "correct predictions made out of all the problems.\n",
        "*  Accuracy is a good measure when the target variable classes in the data\n",
        "are nearly balanced.\n",
        "*  When the majority of the target variable classes in data belong to a\n",
        "single class, accuracy should not be used as a measure."
      ],
      "metadata": {
        "id": "UqA9pHE6DQSG"
      }
    },
    {
      "cell_type": "markdown",
      "source": [
        "### Precision"
      ],
      "metadata": {
        "id": "1HhF4NzBD5ir"
      }
    },
    {
      "cell_type": "markdown",
      "source": [
        "* Precision refers to the closeness of two or more measurements with\n",
        "each other. It aims at deriving the correct proportion of positive\n",
        "identifications."
      ],
      "metadata": {
        "id": "Qppc2CE3D_B1"
      }
    },
    {
      "cell_type": "markdown",
      "source": [
        "### Recall or Sensitivity"
      ],
      "metadata": {
        "id": "dodMBsieD_Fo"
      }
    },
    {
      "cell_type": "markdown",
      "source": [
        "* Recall or Sensitivity measures the proportion of actual positives that are\n",
        "correctly identified."
      ],
      "metadata": {
        "id": "5cBxbSEOEOzV"
      }
    },
    {
      "cell_type": "markdown",
      "source": [
        "### Specificity"
      ],
      "metadata": {
        "id": "_kecVgXxEXTB"
      }
    },
    {
      "cell_type": "markdown",
      "source": [
        "* Specificity measures the proportion of actual negatives that are correctly\n",
        "identified. Specificity tries to identify the probability of a negative test\n",
        "result when input with negative example."
      ],
      "metadata": {
        "id": "9LOBLVaSEXim"
      }
    },
    {
      "cell_type": "markdown",
      "source": [
        "### F1 Score"
      ],
      "metadata": {
        "id": "A7rjYHTQEgg4"
      }
    },
    {
      "cell_type": "markdown",
      "source": [
        "* A model that predicts every transaction as fraud should not be given a\n",
        "moderate score. Instead of arithmetic mean, harmonic mean can be\n",
        "used."
      ],
      "metadata": {
        "id": "Lmff2lr6EgtU"
      }
    },
    {
      "cell_type": "markdown",
      "source": [
        "## Recall vs Precision"
      ],
      "metadata": {
        "id": "Uw4iKJRMEr21"
      }
    },
    {
      "cell_type": "markdown",
      "source": [
        "* Precision is about being precise, whereas recall is about capturing all the\n",
        "cases.\n",
        "* Therefore, even if the model captures one correct cancer positive case, it\n",
        "is 100% precise.\n",
        "* If the model captures every case as cancer positive, you have 100%\n",
        "recall.\n",
        "* If you want to focus more on minimizing false negatives, you would want\n",
        "100% recall with good precision score.\n",
        "* If you want to focus on minimizing false negatives, then you should aim\n",
        "for 100% precision."
      ],
      "metadata": {
        "id": "p3kyKjAIErr0"
      }
    }
  ]
}