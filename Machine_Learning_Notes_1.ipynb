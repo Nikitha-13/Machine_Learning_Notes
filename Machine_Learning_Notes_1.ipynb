{
  "nbformat": 4,
  "nbformat_minor": 0,
  "metadata": {
    "colab": {
      "provenance": [],
      "toc_visible": true
    },
    "kernelspec": {
      "name": "python3",
      "display_name": "Python 3"
    },
    "language_info": {
      "name": "python"
    }
  },
  "cells": [
    {
      "cell_type": "markdown",
      "source": [
        "# **Machine** Learning (Part -1)"
      ],
      "metadata": {
        "id": "CYhCHApb6OV2"
      }
    },
    {
      "cell_type": "markdown",
      "source": [
        "## **Definition**\n",
        "Machine learning can be defined as an approach to achieve artificial\n",
        "intelligence through systems or software models that can learn from\n",
        "\n"
      ],
      "metadata": {
        "id": "CE6PBNIA6Waa"
      }
    },
    {
      "cell_type": "markdown",
      "source": [
        "## Relationship Between AI, ML and DL"
      ],
      "metadata": {
        "id": "YbYrjngS6g9f"
      }
    },
    {
      "cell_type": "markdown",
      "source": [
        "**Artificial Intelligence:**\n",
        " A program that can sense, reason, act and adapt.\n",
        "\n",
        "\n",
        "**Machine Learning:**\n",
        "Machine learning is a subset of AI. The idea is that machines will “learn”\n",
        "and get better at tasks over time rather than having humans continually\n",
        "having to input parameters. Machine learning is a practical application of\n",
        "AI.\n",
        "\n",
        "\n",
        "**Deep Learning:**\n",
        " Deep learning is a subset of machine learning. It refers to using multi-\n",
        "layered neural networks to process data in increasingly sophisticated\n",
        "ways, enabling the software to train itself to perform tasks like image\n",
        "recognition. Layers of neural networks stacked on top of each for use in\n",
        "deep learning are called deep neural networks."
      ],
      "metadata": {
        "id": "G0_MoMM66hDj"
      }
    },
    {
      "cell_type": "markdown",
      "source": [
        "## Traditional Approach vs. Machine Learning Approach\n"
      ],
      "metadata": {
        "id": "yOmG4m2V7iDg"
      }
    },
    {
      "cell_type": "markdown",
      "source": [
        "**Traditional Programming:**\n",
        " Data and Program is run on the computer to produce the Output.\n",
        "\n",
        " **Machine Learning:**\n",
        " Data and Output is run on the computer to create a Program."
      ],
      "metadata": {
        "id": "znQSwKkR7q_8"
      }
    },
    {
      "cell_type": "markdown",
      "source": [
        "## Types of Machine Learning"
      ],
      "metadata": {
        "id": "jcaCXbn477CR"
      }
    },
    {
      "cell_type": "markdown",
      "source": [
        "1. Supervised Learning\n",
        "2. Unsupervised Learning\n",
        "3. Reinforcement Learning"
      ],
      "metadata": {
        "id": "c17ZMxY_8Al8"
      }
    },
    {
      "cell_type": "markdown",
      "source": [
        "### Supervised Learning"
      ],
      "metadata": {
        "id": "8_SjLJkR8JnC"
      }
    },
    {
      "cell_type": "markdown",
      "source": [
        "* Supervised Learning is a type of machine learning used to\n",
        "train models\n",
        "from labeled training data. It allows you to predict output for future or\n",
        "unseen data.\n",
        "\n",
        "* Supervised Learning Process:\n",
        " Labeled Training Data (Input Data Feature + Expected Output) → Machine\n",
        "Learning Algorithm → Learned Model\n",
        "\n",
        "* Example:\n",
        "Predictions made by whether apps at a given time are based on prior\n",
        "knowledge and analysis of whether over a period of time for a particular\n",
        "place."
      ],
      "metadata": {
        "id": "sTGYFfb_8J3-"
      }
    },
    {
      "cell_type": "markdown",
      "source": [
        "**Types of Supervised Learning**\n",
        "\n",
        "1. Regression → Numerical\n",
        "2. Classification → Categorical"
      ],
      "metadata": {
        "id": "nC5GVrZg_cl4"
      }
    },
    {
      "cell_type": "markdown",
      "source": [
        "**Regression:**\n",
        "\n",
        "* Use Case:\n",
        "Predicting profit based on expenditures of the company\n",
        "* Regression is applied when the output is a continuous number."
      ],
      "metadata": {
        "id": "80PAr3Bb_rTL"
      }
    },
    {
      "cell_type": "markdown",
      "source": [
        "**Classification:**\n",
        "\n",
        "* Classification is applied when the output has finite and discrete values.\n",
        "* Use Cases:\n",
        "  1. Loan Sanction\n",
        "  2. Customer Segments\n",
        "  3. Spam Filtering\n",
        "  4. Exam Result : Pass / Fail\n",
        "\n",
        "* Example:\n",
        "Social media sentiment analysis has three potential outcomes:\n",
        "  1. Positive\n",
        "  2. Negative\n",
        "  3.Neutral"
      ],
      "metadata": {
        "id": "radJsB2S_q52"
      }
    },
    {
      "cell_type": "markdown",
      "source": [
        "\n",
        "**Types of Classification Algorithms:**\n",
        "\n",
        "* Logistic Regression:\n",
        "Used to estimate discrete values (binary values like 0/1, yes/no,\n",
        "true/false) based on given set of independent variables.\n",
        "* Decision Trees:\n",
        "Decision Trees make sequential, hierarchical decisions about the\n",
        "outcome variable based on the predictor data.\n",
        "* Random Forests:\n",
        "Random Forest is an ensemble of decision trees that gives better\n",
        "prediction and accuracy than decision tree.\n",
        "* Naïve Bayes Classifier:\n",
        "Based on Bayes theorem and works with an assumption that features are\n",
        "independent.\n",
        "* Support Vector Machine (SVM):\n",
        "SVM draws hyperplane in a feature space that separates instances into\n",
        "different categories with margins in between as far apart as possible."
      ],
      "metadata": {
        "id": "dkeDAk84A4HF"
      }
    },
    {
      "cell_type": "markdown",
      "source": [
        "### Unsupervised Learning:\n"
      ],
      "metadata": {
        "id": "j_td7upR8lci"
      }
    },
    {
      "cell_type": "markdown",
      "source": [
        "* Unsupervised Learning is a type of machine learning used to train\n",
        "models from unlabeled training data. It allows you to find patterns from\n",
        "this input data.\n",
        "\n",
        "* Unsupervised Learning Process:\n",
        "Training Data (Input Data Features)\n",
        "→ Machine Learning Algorithm\n",
        "→ Learned\n",
        "Model"
      ],
      "metadata": {
        "id": "OqGim6JN9Eyn"
      }
    },
    {
      "cell_type": "markdown",
      "source": [
        "## Gradient Descent"
      ],
      "metadata": {
        "id": "J7mnaYo7_XjE"
      }
    },
    {
      "cell_type": "markdown",
      "source": [
        "* Gradient descent is a optimization algorithm used for minimizing the cost\n",
        "function in various machine learning algorithms.\n",
        "\n",
        "* It is basically used for updating the parameters of learning model."
      ],
      "metadata": {
        "id": "-TBrfXyY_Xzi"
      }
    },
    {
      "cell_type": "code",
      "source": [],
      "metadata": {
        "id": "UOQuOnU1BtxB"
      },
      "execution_count": null,
      "outputs": []
    }
  ]
}